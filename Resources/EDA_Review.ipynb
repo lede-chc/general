{
 "cells": [
  {
   "cell_type": "markdown",
   "metadata": {},
   "source": [
    "# Data Cleaning"
   ]
  },
  {
   "cell_type": "markdown",
   "metadata": {},
   "source": [
    "##Got Dates?"
   ]
  },
  {
   "cell_type": "markdown",
   "metadata": {},
   "source": [
    "This code was stolen from Soma's do-now 8 from the summer. If you still have work from that day, check it out! "
   ]
  },
  {
   "cell_type": "code",
   "execution_count": null,
   "metadata": {
    "collapsed": true
   },
   "outputs": [],
   "source": [
    "import datetime\n",
    "print datetime.datetime.now()\n",
    "\n",
    "#strftime turns a datetime into a string\n",
    "#strptime turns a string into a datetime\n",
    "now_str = '12:25 PM on Jun 22'\n",
    "now_date = datetime.datetime.strptime(now_str,'%I:%M %p on %b %d')\n",
    "\n",
    "import dateutil.parser\n",
    "dateutil.parser.parse(happened_at)"
   ]
  },
  {
   "cell_type": "markdown",
   "metadata": {},
   "source": [
    "#  Exploratory Data Analysis\n",
    "\n",
    "Now that we're identified a few projects we'd like to work on, it's probably a good idea to get more intimately familiar with our data! Depending on the format of your chosen data, it may be a good idea to read through available documentation accompanying your data or familiarize yourself with the source site -- it's a easy way to anticipate potential limitations of your data. \n",
    "\n",
    "If you're ready to dig into your data, take a look at the skeleton code I've compiled from Lede-12 classes this summer. For the most part, I'm assuming your data is in csv or json form -- if it's not, google and then ask your peers to see if they're encountered that format before! There's always something weird out there... "
   ]
  },
  {
   "cell_type": "markdown",
   "metadata": {},
   "source": [
    "## Helpful Python Libraries\n",
    "\n",
    "* numpy\n",
    "* matplotlib\n",
    "* scikit-learn"
   ]
  },
  {
   "cell_type": "code",
   "execution_count": null,
   "metadata": {
    "collapsed": true
   },
   "outputs": [],
   "source": [
    "# Great for basic mean, median, mode stuff\n",
    "import numpy as np\n",
    "\n",
    "# Essential for plotting! \n",
    "import matplotlib.pyplot as plt\n",
    "%matplotlib inline"
   ]
  },
  {
   "cell_type": "markdown",
   "metadata": {},
   "source": [
    "## Opening and reading files into python"
   ]
  },
  {
   "cell_type": "code",
   "execution_count": null,
   "metadata": {
    "collapsed": true
   },
   "outputs": [],
   "source": [
    "# Open a csv and save it as a dictionary\n",
    "\n",
    "import csv\n",
    "file = open(\"file_name.csv\")\n",
    "dogs = list(csv.DictReader(file))\n",
    "\n",
    "# API Requests - Option 1\n",
    "import urllib2\n",
    "response = urllib2.urlopen(url)\n",
    "contents = response.read()\n",
    "contents\n",
    "\n",
    "## Loading JSON\n",
    "import json\n",
    "data = json.loads(contents)\n",
    "data.keys()\n",
    "\n",
    "# API Requests - Option 2\n",
    "import requests\n",
    "response = requests.get(\"API_URL\")\n",
    "data = response.json()\n",
    "data.keys()"
   ]
  },
  {
   "cell_type": "markdown",
   "metadata": {},
   "source": [
    "## Basic peek into our data"
   ]
  },
  {
   "cell_type": "code",
   "execution_count": null,
   "metadata": {
    "collapsed": true
   },
   "outputs": [],
   "source": [
    "np.average(variable1)\n",
    "np.median(variable1)\n",
    "np.std(variable1)"
   ]
  },
  {
   "cell_type": "markdown",
   "metadata": {},
   "source": [
    "##Manipulating your data with Python"
   ]
  },
  {
   "cell_type": "markdown",
   "metadata": {},
   "source": [
    "Most of this code is taken from things we went over in Data & Data Structures and Algorithms this summer. "
   ]
  },
  {
   "cell_type": "code",
   "execution_count": null,
   "metadata": {
    "collapsed": true
   },
   "outputs": [],
   "source": [
    "import pandas as pd\n",
    "df = pd.read_csv(\"file_name.csv\", sep=\",\")\n",
    "\n",
    "# View your dataframe (partially)\n",
    "df[['column1','column2']]\n",
    "\n",
    "# View your dataframe based on a boolean/conditional\n",
    "view1 = df[df[\"column1\"] == \"value\"]\n",
    "view1\n",
    "\n",
    "view1['column1'].mean()\n",
    "\n",
    "# View your dataframe based on multiple conditions\n",
    "view2 = df[(df[\"column1\"] == \"value1\") & (df[\"column2\"] == \"value2\")]\n",
    "\n",
    "# View your dataframe based on EVEN MORE conditions\n",
    "view3 = df[(df[\"column1\"] == \"value1\") & (df[\"column2\"] == \"value2\") & (df[\"column3\"] > value3)]\n",
    "\n",
    "# Groupby -- like pivot tables in Excel\n",
    "df.groupby(by=['column1','column2'])[['column3']].mean()\n",
    "\n",
    "# Another groupby\n",
    "df.groupby(by=['column1'])[['column2']].mean()"
   ]
  },
  {
   "cell_type": "markdown",
   "metadata": {},
   "source": [
    "## Visualize it! "
   ]
  },
  {
   "cell_type": "code",
   "execution_count": null,
   "metadata": {
    "collapsed": true
   },
   "outputs": [],
   "source": [
    "plt.hist(variable1)\n",
    "plt.scatter(variable1, variable2)"
   ]
  }
 ],
 "metadata": {
  "kernelspec": {
   "display_name": "Python 2",
   "language": "python",
   "name": "python2"
  },
  "language_info": {
   "codemirror_mode": {
    "name": "ipython",
    "version": 2
   },
   "file_extension": ".py",
   "mimetype": "text/x-python",
   "name": "python",
   "nbconvert_exporter": "python",
   "pygments_lexer": "ipython2",
   "version": "2.7.10"
  }
 },
 "nbformat": 4,
 "nbformat_minor": 0
}
